{
 "cells": [
  {
   "cell_type": "code",
   "execution_count": 1,
   "id": "e52feb0d-3ca5-4dee-a90b-357036927fef",
   "metadata": {},
   "outputs": [
    {
     "ename": "ModuleNotFoundError",
     "evalue": "No module named 'main'",
     "output_type": "error",
     "traceback": [
      "\u001b[1;31m---------------------------------------------------------------------------\u001b[0m",
      "\u001b[1;31mModuleNotFoundError\u001b[0m                       Traceback (most recent call last)",
      "Cell \u001b[1;32mIn[1], line 2\u001b[0m\n\u001b[0;32m      1\u001b[0m \u001b[38;5;28;01mimport\u001b[39;00m \u001b[38;5;21;01mpandas\u001b[39;00m \u001b[38;5;28;01mas\u001b[39;00m \u001b[38;5;21;01mpd\u001b[39;00m\n\u001b[1;32m----> 2\u001b[0m \u001b[38;5;28;01mfrom\u001b[39;00m \u001b[38;5;21;01mmain\u001b[39;00m\u001b[38;5;21;01m.\u001b[39;00m\u001b[38;5;21;01mmodels\u001b[39;00m \u001b[38;5;28;01mimport\u001b[39;00m FinancialData\n\u001b[0;32m      4\u001b[0m qs \u001b[38;5;241m=\u001b[39m FinancialData\u001b[38;5;241m.\u001b[39mobjects\u001b[38;5;241m.\u001b[39mall()\u001b[38;5;241m.\u001b[39mvalues(\n\u001b[0;32m      5\u001b[0m     \u001b[38;5;124m\"\u001b[39m\u001b[38;5;124mcompany_name\u001b[39m\u001b[38;5;124m\"\u001b[39m, \u001b[38;5;124m\"\u001b[39m\u001b[38;5;124mreport_date\u001b[39m\u001b[38;5;124m\"\u001b[39m,\n\u001b[0;32m      6\u001b[0m     \u001b[38;5;124m\"\u001b[39m\u001b[38;5;124mdebt_short_term\u001b[39m\u001b[38;5;124m\"\u001b[39m, \u001b[38;5;124m\"\u001b[39m\u001b[38;5;124mdebt_long_term\u001b[39m\u001b[38;5;124m\"\u001b[39m, \u001b[38;5;124m\"\u001b[39m\u001b[38;5;124mtotal_assets\u001b[39m\u001b[38;5;124m\"\u001b[39m,\n\u001b[0;32m      7\u001b[0m     \u001b[38;5;124m\"\u001b[39m\u001b[38;5;124mauditor_opinion\u001b[39m\u001b[38;5;124m\"\u001b[39m\n\u001b[0;32m      8\u001b[0m )\n\u001b[0;32m     10\u001b[0m df \u001b[38;5;241m=\u001b[39m pd\u001b[38;5;241m.\u001b[39mDataFrame\u001b[38;5;241m.\u001b[39mfrom_records(qs)\n",
      "\u001b[1;31mModuleNotFoundError\u001b[0m: No module named 'main'"
     ]
    }
   ],
   "source": [
    "import pandas as pd\n",
    "from main.models import FinancialData\n",
    "\n",
    "qs = FinancialData.objects.all().values(\n",
    "    \"company_name\", \"report_date\",\n",
    "    \"debt_short_term\", \"debt_long_term\", \"total_assets\",\n",
    "    \"auditor_opinion\"\n",
    ")\n",
    "\n",
    "df = pd.DataFrame.from_records(qs)\n"
   ]
  },
  {
   "cell_type": "code",
   "execution_count": null,
   "id": "ef1ef110-8591-4776-914d-ef41aaec9fb5",
   "metadata": {},
   "outputs": [],
   "source": [
    "score_map = {\n",
    "    \"unqualified\": 0,\n",
    "    \"qualified\": 1,\n",
    "    \"disclaimer\": 2,\n",
    "    \"adverse\": 3,\n",
    "    \"adverse Conclusion\": 3,\n",
    "}\n",
    "\n",
    "df = df.dropna(subset=[\"debt_short_term\", \"debt_long_term\", \"total_assets\", \"auditor_opinion\"])\n",
    "\n",
    "df[\"debt_short_term\"] = df[\"debt_short_term\"].astype(float)\n",
    "df[\"debt_long_term\"] = df[\"debt_long_term\"].astype(float)\n",
    "df[\"total_assets\"] = df[\"total_assets\"].astype(float)\n",
    "\n",
    "df[\"debt_ratio\"] = (df[\"debt_short_term\"] + df[\"debt_long_term\"]) / df[\"total_assets\"]\n",
    "df[\"opinion_score\"] = df[\"auditor_opinion\"].str.strip().map(score_map)\n"
   ]
  },
  {
   "cell_type": "code",
   "execution_count": null,
   "id": "49966280-a866-4f48-9bc4-03bd3106ef06",
   "metadata": {},
   "outputs": [],
   "source": [
    "from scipy.stats import pearsonr\n",
    "\n",
    "valid = df.dropna(subset=[\"debt_ratio\", \"opinion_score\"])\n",
    "corr, pval = pearsonr(valid[\"debt_ratio\"], valid[\"opinion_score\"])\n",
    "\n",
    "print(f\"📊 Correlation: {corr:.3f}\")\n",
    "print(f\"📌 p-value: {pval:.4f}\")\n"
   ]
  }
 ],
 "metadata": {
  "kernelspec": {
   "display_name": "Python 3 (ipykernel)",
   "language": "python",
   "name": "python3"
  },
  "language_info": {
   "codemirror_mode": {
    "name": "ipython",
    "version": 3
   },
   "file_extension": ".py",
   "mimetype": "text/x-python",
   "name": "python",
   "nbconvert_exporter": "python",
   "pygments_lexer": "ipython3",
   "version": "3.12.7"
  }
 },
 "nbformat": 4,
 "nbformat_minor": 5
}
